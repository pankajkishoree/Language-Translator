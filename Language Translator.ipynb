{
 "cells": [
  {
   "cell_type": "code",
   "execution_count": 1,
   "id": "45e1a7e9-1d23-4e96-9998-76f3b2e26de5",
   "metadata": {},
   "outputs": [],
   "source": [
    "from tkinter import *\n",
    "from tkinter import ttk\n",
    "from googletrans import Translator, LANGUAGES\n",
    "from tkinter import Tk\n",
    "\n",
    "root = Tk()\n",
    "root.geometry(\"1000x420\")\n",
    "root.resizable(0, 0)\n",
    "root.iconbitmap(\"C:\\\\Users\\\\panka\\\\Downloads\\\\languages.ico\")\n",
    "root['bg'] = 'skyblue'\n",
    "root.title('Language translator by Aadrik')\n",
    "Label(root, text= 'Language Translator', font= 'Arial 20 bold').pack()\n",
    "\n",
    "Label(root, text= \"Enter Text\", font= 'arial 13 bold', bg= 'white smoke').place(x=180, y=90)\n",
    "\n",
    "Input_text= Entry(root, width=80, font=('Arial', 12))\n",
    "Input_text.place(x=100, y=130)\n",
    "Input_text.get()\n",
    "\n",
    "Label(root, text=\"Output\", font= 'arial 13 bold', bg='white smoke').place(x=780 , y=90)\n",
    "Output_text= Text(root, font='arial 10', height= 11, wrap= WORD, padx= 5, pady= 5, width= 50)\n",
    "Output_text.place(x=600, y=130)\n",
    "\n",
    "language= list(LANGUAGES.values())\n",
    "\n",
    "dest_lang= ttk.Combobox(root, values=language, width=22)\n",
    "dest_lang.place(x=130, y=160)\n",
    "dest_lang.set('choose language')\n",
    "\n",
    "def Translate():\n",
    "    translator= Translator()\n",
    "    translated= translator.translate(text= Input_text.get(), dest= dest_lang.get())\n",
    "    Output_text.delete(1.0, END)\n",
    "    Output_text.insert(END, translated.text)\n",
    "\n",
    "trans_btn= Button(root, text= \"Translate\", font= 'arial 12 bold', pady= 5, command= Translate, bg= 'orange', activebackground= 'green')\n",
    "trans_btn.place(x=445, y=180)\n",
    "\n",
    "root.mainloop()\n"
   ]
  },
  {
   "cell_type": "code",
   "execution_count": null,
   "id": "79ffcebf-1bae-45bc-82ed-0464a6e27529",
   "metadata": {},
   "outputs": [],
   "source": []
  }
 ],
 "metadata": {
  "kernelspec": {
   "display_name": "Python 3 (ipykernel)",
   "language": "python",
   "name": "python3"
  },
  "language_info": {
   "codemirror_mode": {
    "name": "ipython",
    "version": 3
   },
   "file_extension": ".py",
   "mimetype": "text/x-python",
   "name": "python",
   "nbconvert_exporter": "python",
   "pygments_lexer": "ipython3",
   "version": "3.12.3"
  },
  "widgets": {
   "application/vnd.jupyter.widget-state+json": {
    "state": {},
    "version_major": 2,
    "version_minor": 0
   }
  }
 },
 "nbformat": 4,
 "nbformat_minor": 5
}
